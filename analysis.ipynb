{
 "cells": [
  {
   "cell_type": "code",
   "execution_count": 31,
   "metadata": {},
   "outputs": [],
   "source": [
    "import math\n",
    "import numpy as np \n",
    "import pandas as pd\n",
    "import os\n",
    "import time"
   ]
  },
  {
   "cell_type": "code",
   "execution_count": 32,
   "metadata": {},
   "outputs": [
    {
     "data": {
      "text/plain": [
       "'C:/Users/138035/Documents/Projects/Core Connect/CoreConnectML'"
      ]
     },
     "execution_count": 32,
     "metadata": {},
     "output_type": "execute_result"
    }
   ],
   "source": [
    "path = r'%s' % os.getcwd().replace('\\\\','/')\n",
    "path"
   ]
  },
  {
   "cell_type": "code",
   "execution_count": 33,
   "metadata": {},
   "outputs": [
    {
     "name": "stdout",
     "output_type": "stream",
     "text": [
      "C:/Users/138035/Documents/Projects/Core Connect/CoreConnectML/Data/\n"
     ]
    }
   ],
   "source": [
    "start = time.time()\n",
    "\n",
    "# Directory where the data (csvs) are, be sure to change to match your personal directory\n",
    "dir_ = path + '/Data/'\n",
    "\n",
    "print(dir_)\n",
    "\n",
    "# Global counter to sort through stock data files\n",
    "file_counter_ = 1\n",
    "\n",
    "# Change the working directory to where the data sits\n",
    "os.chdir(dir_)"
   ]
  },
  {
   "cell_type": "code",
   "execution_count": 34,
   "metadata": {},
   "outputs": [],
   "source": [
    "# Function to calculate the True Range in each row\n",
    "def calc_tr_(row):\n",
    "\n",
    "    high_ = row['High']\n",
    "    low_ = row['Low']\n",
    "    open_ = row['Open']\n",
    "    close_ = row['Close']\n",
    "    volume_ = row['Volume']\n",
    "    prev_close_ = row['Prev Close']\n",
    "\n",
    "    max_1_ = high_ - low_\n",
    "    max_2_ = abs(high_ - prev_close_)\n",
    "    max_3_ = abs(low_- prev_close_)\n",
    "\n",
    "    TR_ = max(max_1_,max_2_,max_3_)\n",
    "\n",
    "    return TR_"
   ]
  },
  {
   "cell_type": "code",
   "execution_count": 35,
   "metadata": {},
   "outputs": [],
   "source": [
    "# Loop through the directory to ingest each file\n",
    "for file_ in os.listdir(dir_):\n",
    "    # Read the csv\n",
    "    df_stocks_temp_ = pd.read_csv(file_)\n",
    "    # Grab the ticker\n",
    "    df_stocks_temp_['Ticker'] = file_.split(\".\")[0]\n",
    "    # Populate the previous close\n",
    "    df_stocks_temp_['Prev Close'] = df_stocks_temp_['Close'].shift(1)\n",
    "    # Calculate the True Range for each row for the ATR calculation\n",
    "    df_stocks_temp_['TR'] = df_stocks_temp_.apply(calc_tr_,axis=1)\n",
    "    # Create increment for ATR calculation\n",
    "    atr_counter_ = 1\n",
    "    # Find the length of the TR column then find how many iterations of 14 days \n",
    "    length_atr_ = len(df_stocks_temp_['TR'])\n",
    "    iterations_ = length_atr_%14\n",
    "\n",
    "    # For loop to grab frames of TR data\n",
    "    for i in range(0,iterations_):\n",
    "        # Grab TR data in increments of 14\n",
    "        df_temp_atr_ = df_stocks_temp_['TR'][(atr_counter_-1)*14:atr_counter_*14]\n",
    "        # Length of values to iterate and calculate over\n",
    "        length_df_temp_atr_ = len(df_temp_atr_)\n",
    "        # Loop to Calculate ATR\n",
    "        for j in range(0,length_df_temp_atr_):\n",
    "            # Grab the True Range value\n",
    "            ATR_temp_ = df_temp_atr_[((atr_counter_-1)*14)+j]\n",
    "            # If the value is being initializated then populate\n",
    "            if i == 0:\n",
    "                ATR_ = ATR_temp_\n",
    "            # If past initialization then add the TR values for the iterable period\n",
    "            else:\n",
    "                ATR_ = ATR_ + ATR_temp_\n",
    "        # Populate the master data frame with the ATR values for the respective stock \n",
    "        df_stocks_temp_['ATR'] = ATR_\n",
    "        # Increment ATR Counter \n",
    "        atr_counter_ += 1\n",
    "\n",
    "    # Drop TR Column here\n",
    "\n",
    "    \n",
    "    # If the master data frame is being initialized then populate\n",
    "    if file_counter_ == 1:\n",
    "        df_stocks_ = df_stocks_temp_\n",
    "    # Else append dataframe\n",
    "    else:\n",
    "        df_stocks_ = df_stocks_.append(df_stocks_temp_)\n",
    "    # Clear temp dataframe\n",
    "    df_stocks_temp_ = df_stocks_temp_.iloc[0:0]\n",
    "\n",
    "    # Increment file count\n",
    "    file_counter_ += 1"
   ]
  },
  {
   "cell_type": "code",
   "execution_count": 36,
   "metadata": {},
   "outputs": [],
   "source": [
    "# Reset the dataframe index\n",
    "df_stocks_ = df_stocks_.set_index(['Date','Ticker'])\n",
    "# Sort dataframe by date\n",
    "df_stocks_ = df_stocks_.sort_values('Date')"
   ]
  },
  {
   "cell_type": "code",
   "execution_count": 37,
   "metadata": {},
   "outputs": [
    {
     "name": "stdout",
     "output_type": "stream",
     "text": [
      "Execution time: 6.321531057357788\n"
     ]
    }
   ],
   "source": [
    "end = time.time()\n",
    "print(\"Execution time:\", end - start)"
   ]
  },
  {
   "cell_type": "code",
   "execution_count": 38,
   "metadata": {},
   "outputs": [
    {
     "data": {
      "text/plain": [
       "{'total': 21344120832,\n",
       " 'available': 9578168320,\n",
       " 'percent': 55.1,\n",
       " 'used': 11765952512,\n",
       " 'free': 9578168320}"
      ]
     },
     "execution_count": 38,
     "metadata": {},
     "output_type": "execute_result"
    }
   ],
   "source": [
    "import psutil\n",
    "# gives a single float value\n",
    "psutil.cpu_percent()\n",
    "# gives an object with many fields\n",
    "psutil.virtual_memory()\n",
    "# you can convert that object to a dictionary \n",
    "dict(psutil.virtual_memory()._asdict())"
   ]
  }
 ],
 "metadata": {
  "kernelspec": {
   "display_name": "Python 3",
   "language": "python",
   "name": "python3"
  },
  "language_info": {
   "codemirror_mode": {
    "name": "ipython",
    "version": 3
   },
   "file_extension": ".py",
   "mimetype": "text/x-python",
   "name": "python",
   "nbconvert_exporter": "python",
   "pygments_lexer": "ipython3",
   "version": "3.7.3"
  }
 },
 "nbformat": 4,
 "nbformat_minor": 2
}
